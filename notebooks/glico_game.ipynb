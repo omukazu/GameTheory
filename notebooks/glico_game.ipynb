{
 "cells": [
  {
   "cell_type": "markdown",
   "id": "f781f954-3d1d-4dd4-ba4a-7ccd52165ff1",
   "metadata": {},
   "source": [
    "# Glico Game"
   ]
  },
  {
   "cell_type": "code",
   "execution_count": null,
   "id": "d043200c-f6c5-48cf-83de-3236b5e478d4",
   "metadata": {},
   "outputs": [],
   "source": []
  }
 ],
 "metadata": {
  "kernelspec": {
   "display_name": "Python 3 (ipykernel)",
   "language": "python",
   "name": "python3"
  },
  "language_info": {
   "codemirror_mode": {
    "name": "ipython",
    "version": 3
   },
   "file_extension": ".py",
   "mimetype": "text/x-python",
   "name": "python",
   "nbconvert_exporter": "python",
   "pygments_lexer": "ipython3",
   "version": "3.9.6"
  }
 },
 "nbformat": 4,
 "nbformat_minor": 5
}
