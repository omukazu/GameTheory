{
 "cells": [
  {
   "cell_type": "markdown",
   "id": "f781f954-3d1d-4dd4-ba4a-7ccd52165ff1",
   "metadata": {},
   "source": [
    "# Glico Game\n",
    "\n",
    "In this notebook, we analyze each player's behavior when he is playing Glico game.\n",
    "\n",
    "### What is Glico game?\n",
    "\n",
    "In Glico game, two players compete to reach the top of N stairs first.  \n",
    "How many stairs players can go up is decided by playing Rock Paper Scissors at every turn.  \n",
    "Specifically,  \n",
    "- If one player wins with rock, he can go up 3 stairs, but the other stays.\n",
    "- If one player wins with paper or scissors, he can go up 6 stairs, but the other stays.\n",
    "- If it ended in a draw, both players stay."
   ]
  },
  {
   "cell_type": "markdown",
   "id": "8830fb97-f93e-48c1-a8b8-ac2ca4aa8307",
   "metadata": {},
   "source": [
    "Naively, we'll create a payoff matrix as follows.\n",
    "\n",
    "| | Rock | Paper | Scissors |\n",
    "| ---- | ---- | ---- | ---- |\n",
    "| **Rock** | $$0$$ | $$-6$$ | $$3$$ |\n",
    "| **Paper** | $$6$$ | $$0$$ | $$-6$$ |\n",
    "| **Scissors** | $$-3$$ | $$6$$ | $$0$$ |\n",
    "\n",
    "(The payoff that the opponent player gains is omitted because of symmetry property.)\n",
    "\n",
    "Let's solve for mixed-strategy Nash equilibrium."
   ]
  },
  {
   "cell_type": "code",
   "execution_count": null,
   "id": "60d0e08b-0f8f-4b50-8c1d-e0145bb4c7da",
   "metadata": {},
   "outputs": [],
   "source": [
    "# import necessary packages\n",
    "from pprint import pprint\n",
    "\n",
    "import numpy as np\n",
    "import pandas as pd"
   ]
  },
  {
   "cell_type": "code",
   "execution_count": null,
   "id": "d043200c-f6c5-48cf-83de-3236b5e478d4",
   "metadata": {},
   "outputs": [],
   "source": [
    "# payoff matrix\n",
    "A = np.array([\n",
    "    [0, -6, 3],\n",
    "    [6, 0, -6],\n",
    "    [-3, 6, 0]\n",
    "])\n",
    "print('*** payoff matrix ***')\n",
    "moves = ['Rock', 'Paper', 'Scissors']\n",
    "pprint(pd.DataFrame(A, index=moves, columns=moves))"
   ]
  },
  {
   "cell_type": "markdown",
   "id": "d3158a8e-4102-4806-971c-1dcb73c1de43",
   "metadata": {},
   "source": [
    "### How to solve for a mixed strategy\n",
    "\n",
    "Let the opponent player's strategy be as\n",
    "$$s_{j} = (q_{rock}, q_{paper}, q_{scissors}),~~~~\\sum_{k \\in \\{rock, paper, scissors\\}}q_{k}=1$$\n",
    "The expected payoff of each strategy is equal to each other, so\n",
    "$$-6q_{paper} + 3q_{scissors} = 6q_{rock} - 6q_{scissors} = -3q_{rock} + 6q_{paper}$$\n",
    "This is equivalent to\n",
    "$$3q_{rock} - 12q_{paper} + 3q_{scissors} = 0$$\n",
    "$$9q_{rock} - 6q_{paper} - 6q_{scissors} = 0$$ \n",
    "To organize the above, we just solve the following simultaneous equations.\n",
    "\n",
    "$$\n",
    "\\begin{pmatrix}\n",
    "3 & -12 & 3 \\\\\n",
    "9 & -6 & -6 \\\\\n",
    "1 & 1 & 1\n",
    "\\end{pmatrix}\n",
    "\\begin{pmatrix}\n",
    "q_{rock} \\\\\n",
    "q_{paper} \\\\\n",
    "q_{scissors}\n",
    "\\end{pmatrix}\n",
    "=\n",
    "\\begin{pmatrix}\n",
    "0 \\\\\n",
    "0 \\\\\n",
    "1\n",
    "\\end{pmatrix}\n",
    "$$"
   ]
  },
  {
   "cell_type": "code",
   "execution_count": null,
   "id": "e049759f-15bc-442d-b3d9-11476b5d94ba",
   "metadata": {},
   "outputs": [],
   "source": [
    "B = np.concatenate((A[:-1] - A[-1], np.array([[1, 1, 1]])), axis=0)\n",
    "print('*** coefficient matrix ***')\n",
    "pprint(B)\n",
    "q_rock, q_paper, q_scissors = np.matmul(np.linalg.inv(B), np.array([0, 0, 1]))\n",
    "print(f'The equilibrium strategy is (q_rock, q_paper, q_scissors) = ({q_rock}, {q_paper}, {q_scissors})')"
   ]
  },
  {
   "cell_type": "markdown",
   "id": "1e72d853-7388-422e-af63-5a2731dac579",
   "metadata": {},
   "source": [
    "### NOTE\n",
    "\n",
    "In this case, the payoff matrix is symmetric, so the same is true of the other player.  \n",
    "As a result, we may conclude that Nash equilibrium is $$(s^{*}_{i}, s^{*}_{j}) = ((0.4, 0.2, 0.4),(0.4, 0.2, 0.4))$$\n",
    "However, it is not enough.  \n",
    "For example, if one player stays at 1 or 2 stairs away from the top, he will win the game with any hand.  \n",
    "In such a case, the payoff matrix for the player is the same as just playing Rock Paper Scissors.\n",
    "\n",
    "| | Rock | Paper | Scissors |\n",
    "| ---- | ---- | ---- | ---- |\n",
    "| **Rock** | $$0$$ | $$-1$$ | $$1$$ |\n",
    "| **Paper** | $$1$$ | $$0$$ | $$-1$$ |\n",
    "| **Scissors** | $$-1$$ | $$1$$ | $$0$$ |\n",
    "\n",
    "Considering the above, it is more accurate to say the strategy will change from (0.4, 0.2, 0.4) to (1/3, 1/3, 1/3)."
   ]
  },
  {
   "cell_type": "code",
   "execution_count": null,
   "id": "7c470438-f409-4499-a10f-89d2bc2fa754",
   "metadata": {},
   "outputs": [],
   "source": []
  }
 ],
 "metadata": {
  "kernelspec": {
   "display_name": "Python 3 (ipykernel)",
   "language": "python",
   "name": "python3"
  },
  "language_info": {
   "codemirror_mode": {
    "name": "ipython",
    "version": 3
   },
   "file_extension": ".py",
   "mimetype": "text/x-python",
   "name": "python",
   "nbconvert_exporter": "python",
   "pygments_lexer": "ipython3",
   "version": "3.9.6"
  }
 },
 "nbformat": 4,
 "nbformat_minor": 5
}
