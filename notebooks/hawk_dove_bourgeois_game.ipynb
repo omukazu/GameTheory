{
 "cells": [
  {
   "cell_type": "markdown",
   "id": "26d1c717-1656-4350-aa41-8aa10465ccb1",
   "metadata": {},
   "source": [
    "# Hawk-Dove-Bourgeois Game\n",
    "\n",
    "In this notebook, we'll consider the situation where bourgeoises emerge as a new power in Hawk-Dove game.\n",
    "\n",
    "Bourgeoises behave as follows.\n",
    "\n",
    "- If they own the land that the food V exists, they behave as a hawk.\n",
    "- If not, they behave as a dove.\n",
    "- The probability of owning the land is p.\n",
    "- The above is equivalent to behaving as a hawk or a dove with the probabilities p and 1-p, respectively.\n",
    "- Bourgeoises don't compete with themselves like doves.\n",
    "\n",
    "For simplicity, we set p to 0.5 this time.  \n",
    "The expected payoff that a bourgeois gains when competing with a hawk is \n",
    "$$ \\frac{V-C}{2} \\times p + 0 \\times (1 - p) = \\frac{V-C}{4} $$\n",
    "Similarly, we can calculate the expected payoff in the other cases and obtain the following payoff matrix.\n",
    "\n",
    "| | Hawk | Dove | Bourgeois |\n",
    "| ---- | ---- | ---- | ---- |\n",
    "| **Hawk** | $$\\frac{V-C}{2}$$ | $$V$$ | $$\\frac{3V-C}{4}$$ |\n",
    "| **Dove** | $$0$$ | $$\\frac{V}{2}$$ | $$\\frac{V}{4}$$ |\n",
    "| **Bourgeois** | $$\\frac{V-C}{4}$$ | $$\\frac{3V}{4}$$ | $$\\frac{V}{2}$$ |\n"
   ]
  },
  {
   "cell_type": "code",
   "execution_count": null,
   "id": "c5f60573-3978-4927-8057-ec9c246ac507",
   "metadata": {
    "tags": []
   },
   "outputs": [],
   "source": [
    "# import necessary packages\n",
    "from pprint import pprint\n",
    "\n",
    "import matplotlib.pyplot as plt\n",
    "import numpy as np\n",
    "import pandas as pd\n",
    "from tqdm.notebook import tqdm"
   ]
  },
  {
   "cell_type": "code",
   "execution_count": null,
   "id": "eaa6e295-5d20-448d-8e83-4e13c9dc2494",
   "metadata": {},
   "outputs": [],
   "source": [
    "!jupyter nbextension enable --py widgetsnbextension"
   ]
  },
  {
   "cell_type": "markdown",
   "id": "06c905b2-c0f6-46c5-84f1-f03d486cad73",
   "metadata": {},
   "source": [
    "### Variable Parameters\n",
    "- V: the amount of food\n",
    "- C: cost\n",
    "- dt: update interval\n",
    "- num_iter: the number of iterations\n",
    "- init_distr: initial population distribution of groups (Initial share of each pure strategy)\n",
    "    - (share of hawks, share of doves, share of bourgeoises)"
   ]
  },
  {
   "cell_type": "code",
   "execution_count": null,
   "id": "428af521-2356-48e7-a24f-307080c34e07",
   "metadata": {},
   "outputs": [],
   "source": [
    "# key -> index (H = Hawk, D = Dove, B = Bourgeois)\n",
    "H = 0\n",
    "D = 1\n",
    "B = 2\n",
    "\n",
    "V = 1\n",
    "C = 2\n",
    "p = 0.5\n",
    "\n",
    "# payoff matrix\n",
    "A = np.array([\n",
    "    [(V - C) / 2, V, (V - C) / 2 * p + V * (1 - p)],\n",
    "    [0, V / 2, V / 2 * (1 - p)],\n",
    "    [(V - C) / 2 * p, V * p + V / 2 * (1 - p), V / 2]\n",
    "])\n",
    "print('*** payoff matrix ***')\n",
    "groups = ['Hawk', 'Dove', 'Bourgeois']\n",
    "pprint(pd.DataFrame(A, index=groups, columns=groups))\n",
    "\n",
    "dt = 0.1\n",
    "\n",
    "num_iter = 1000\n",
    "\n",
    "# init_distr = (0.5, 0.4, 0.1)  # declare in the next cell"
   ]
  },
  {
   "cell_type": "markdown",
   "id": "a36983ec-c832-4caf-b009-04b839e52d8c",
   "metadata": {},
   "source": [
    "### Run a simulation\n",
    "\n",
    "If there are no bourgeoises, the share of each group is stable at $$(s_{hawk}, s_{dove}) = (0.5, 0.5)~~~~(V = 1, C = 2)$$  \n",
    "What would happen if a part of doves were suddenly transformed into bourgeoises, that is, the share changed to $$(s_{hawk}, s_{dove}, s_{bourgeois}) = (0.5, 0.4, 0.1)$$"
   ]
  },
  {
   "cell_type": "code",
   "execution_count": null,
   "id": "3b9f312e-c355-4de2-b821-b58ee304f795",
   "metadata": {},
   "outputs": [],
   "source": [
    "init_distr = (0.5, 0.4, 0.1)  # (share of hawks, share of doves, share of bourgeoises)\n",
    "# assert sum(init_distr) == 1.\n",
    "\n",
    "s_h, s_d, s_b = init_distr\n",
    "log = []\n",
    "for t in tqdm(range(num_iter)):\n",
    "    # calculate the payoff that each group gains\n",
    "    u_h = A[H][H] * s_h + A[H][D] * s_d + A[H][B] * s_b\n",
    "    u_d = A[D][H] * s_h + A[D][D] * s_d + A[D][B] * s_b\n",
    "    u_b = A[B][H] * s_h + A[B][D] * s_d + A[B][B] * s_b\n",
    "\n",
    "    # the average payoff\n",
    "    avg_u = u_h * s_h + u_d * s_d + u_b * s_b\n",
    "    \n",
    "    # update according to replicator dynamics\n",
    "    s_h += s_h * (u_h - avg_u) * dt\n",
    "    s_d += s_d * (u_d - avg_u) * dt\n",
    "    s_b += s_b * (u_b - avg_u) * dt\n",
    "\n",
    "    log.append((s_h, s_d, s_b))"
   ]
  },
  {
   "cell_type": "markdown",
   "id": "241c9677-6ebf-437e-9037-e72fac9e4dab",
   "metadata": {},
   "source": [
    "### Plot how each strategy changes\n",
    "On the default setting, we can see the dominance of a bourgeois strategy."
   ]
  },
  {
   "cell_type": "code",
   "execution_count": null,
   "id": "84dc322b-637a-4ec0-8da1-bfe7a4f64437",
   "metadata": {},
   "outputs": [],
   "source": [
    "s_h, s_d, s_b = map(lambda x: np.array(list(x)), zip(*log))\n",
    "\n",
    "fig, ax = plt.subplots(figsize=(5, 5), dpi=100)\n",
    "ax.plot(s_h, label ='share of hawks', color=\"#E7556A\")\n",
    "ax.plot(s_d, label ='share of doves', color=\"#7CC28E\")\n",
    "ax.plot(s_b, label ='share of bourgeoises', color=\"#0080FF\")\n",
    "ax.grid()\n",
    "ax.legend(loc='upper right')\n",
    "fig.show()"
   ]
  },
  {
   "cell_type": "markdown",
   "id": "777a72ff-84f2-4f08-b74a-80b60df997c1",
   "metadata": {},
   "source": [
    "### Plot how stable each point is\n",
    "On the default setting, we can see vectors point to the origin.  "
   ]
  },
  {
   "cell_type": "code",
   "execution_count": null,
   "id": "93b2251e-20ac-4f40-9c67-d8cd14ed70e6",
   "metadata": {},
   "outputs": [],
   "source": [
    "stop = 100\n",
    "step = 5\n",
    "\n",
    "log = []\n",
    "for i in range(0, stop, step):\n",
    "    for j in range(0, stop - i, step):\n",
    "        s_h = i / stop\n",
    "        s_d = j / stop\n",
    "        s_b = (stop - i - j) / stop\n",
    "        \n",
    "        u_h = A[H][H] * s_h + A[H][D] * s_d + A[H][B] * s_b\n",
    "        u_d = A[D][H] * s_h + A[D][D] * s_d + A[D][B] * s_b\n",
    "        u_b = A[B][H] * s_h + A[B][D] * s_d + A[B][B] * s_b\n",
    "\n",
    "        avg_u = u_h * s_h + u_d * s_d + u_b * s_b\n",
    "        \n",
    "        d_h = s_h * (u_h - avg_u)\n",
    "        d_d = s_d * (u_d - avg_u)\n",
    "\n",
    "        log.append((s_h, s_d, d_h, d_d))\n",
    "        \n",
    "s_h, s_d, d_h, d_d = map(list, zip(*log))\n",
    "\n",
    "fig, ax = plt.subplots(figsize=(5, 5), dpi=100)\n",
    "ax.quiver(s_h, s_d, d_h, d_d, \n",
    "          headwidth=3, headlength=3, headaxislength=3, \n",
    "          angles='xy', scale=1.25, scale_units='xy', \n",
    "          color=\"#7CC28E\")\n",
    "ax.set_xlabel('share of hawks', fontsize=14)\n",
    "ax.set_ylabel('share of doves', rotation=90, fontsize=14)\n",
    "ax.set_xticks(ticks=np.arange(0, 1.1, 0.1))\n",
    "ax.set_yticks(ticks=np.arange(0, 1.1, 0.1))\n",
    "fig.show()"
   ]
  },
  {
   "cell_type": "markdown",
   "id": "3374be85-ce8e-4bf9-818e-023ada32e598",
   "metadata": {},
   "source": [
    "### Extra: Rock Paper Scissors\n",
    "Since the payoff matrix is cyclic, the share of each strategy is also cyclic."
   ]
  },
  {
   "cell_type": "code",
   "execution_count": null,
   "id": "6de0ffbe-f1ef-436a-a3ee-7c4e113ab4dd",
   "metadata": {},
   "outputs": [],
   "source": [
    "R = 0\n",
    "P = 1\n",
    "S = 2\n",
    "\n",
    "A = np.array([\n",
    "    [0, -1, 1],\n",
    "    [1, 0, -1],\n",
    "    [-1, 1, 0]\n",
    "])\n",
    "# A = np.array([\n",
    "#     [0, -1, 1.375],\n",
    "#     [1, 0, -1],\n",
    "#     [-1, 1, 0]\n",
    "# ])\n",
    "print('*** payoff matrix ***')\n",
    "moves = ['Rock', 'Paper', 'Scissors']\n",
    "pprint(pd.DataFrame(A, index=moves, columns=moves))\n",
    "\n",
    "dt = 0.1\n",
    "\n",
    "num_iter = 100000\n",
    "\n",
    "init_distr = (0.3334, 0.3333, 0.3333)\n",
    "# assert sum(init_distr) == 1."
   ]
  },
  {
   "cell_type": "code",
   "execution_count": null,
   "id": "03e48ac6-a984-4e06-b72b-e92d984e90da",
   "metadata": {},
   "outputs": [],
   "source": [
    "s_r, s_p, s_s = init_distr\n",
    "log = []\n",
    "for t in tqdm(range(num_iter)):\n",
    "    u_r = A[R][R] * s_r + A[R][P] * s_p + A[R][S] * s_s\n",
    "    u_p = A[P][R] * s_r + A[P][P] * s_p + A[P][S] * s_s\n",
    "    u_s = A[S][R] * s_r + A[S][P] * s_p + A[S][S] * s_s\n",
    "\n",
    "    avg_u = u_r * s_r + u_p * s_p + u_s * s_s\n",
    "    \n",
    "    s_r += s_r * (u_r - avg_u) * dt\n",
    "    s_p += s_p * (u_p - avg_u) * dt\n",
    "    s_s += s_s * (u_s - avg_u) * dt\n",
    "    \n",
    "    log.append((s_r, s_p, s_s))\n",
    "    \n",
    "s_r, s_p, s_s = map(lambda x: np.array(list(x)), zip(*log))\n",
    "\n",
    "fig, axs = plt.subplots(1, 2, figsize=(10, 5), dpi=100)\n",
    "for i in range(2):\n",
    "    axs[i].plot(s_r[:num_iter // 100] if i == 0 else s_r, label ='share of rock', color=\"#E7556A\")\n",
    "    axs[i].plot(s_p[:num_iter // 100] if i == 0 else s_p, label ='share of paper', color=\"#7CC28E\")\n",
    "    axs[i].plot(s_s[:num_iter // 100] if i == 0 else s_s, label ='share of scissors', color=\"#0080FF\")\n",
    "    axs[i].grid()\n",
    "    axs[i].legend(loc='upper right')\n",
    "fig.tight_layout()\n",
    "fig.show()"
   ]
  },
  {
   "cell_type": "code",
   "execution_count": null,
   "id": "d133e28c-e36d-40d2-8d20-71379625e097",
   "metadata": {},
   "outputs": [],
   "source": [
    "# plot vector field\n",
    "stop = 100\n",
    "step = 5\n",
    "\n",
    "log = []\n",
    "for i in range(0, stop, step):\n",
    "    for j in range(0, stop - i, step):\n",
    "        s_r = i / stop\n",
    "        s_p = j / stop\n",
    "        s_s = (stop - i - j) / stop\n",
    "        \n",
    "        u_r = A[R][R] * s_r + A[R][P] * s_p + A[R][S] * s_s\n",
    "        u_p = A[P][R] * s_r + A[P][P] * s_p + A[P][S] * s_s\n",
    "        u_s = A[S][R] * s_r + A[S][P] * s_p + A[S][S] * s_s\n",
    "        \n",
    "        avg_u = u_r * s_r + u_p * s_p + u_s * s_s\n",
    "        \n",
    "        d_r = s_r * (u_r - avg_u)\n",
    "        d_p = s_p * (u_p - avg_u)\n",
    "\n",
    "        log.append((s_r, s_p, d_r, d_p))\n",
    "        \n",
    "s_r, s_p, d_r, d_p = map(list, zip(*log))\n",
    "\n",
    "fig, ax = plt.subplots(figsize=(5, 5), dpi=100)\n",
    "ax.quiver(s_r, s_p, d_r, d_p, \n",
    "          headwidth=3, headlength=3, headaxislength=3, \n",
    "          angles='xy', scale=5, scale_units='xy', \n",
    "          color=\"#7CC28E\")\n",
    "ax.set_xlabel('share of rock', fontsize=14)\n",
    "ax.set_ylabel('share of paper', rotation=90, fontsize=14)\n",
    "ax.set_xticks(ticks=np.arange(0, 1.1, 0.1))\n",
    "ax.set_yticks(ticks=np.arange(0, 1.1, 0.1))\n",
    "fig.show()"
   ]
  },
  {
   "cell_type": "code",
   "execution_count": null,
   "id": "c05f2ad1-75c2-4684-a134-551f2f960794",
   "metadata": {},
   "outputs": [],
   "source": []
  }
 ],
 "metadata": {
  "kernelspec": {
   "display_name": "Python 3 (ipykernel)",
   "language": "python",
   "name": "python3"
  },
  "language_info": {
   "codemirror_mode": {
    "name": "ipython",
    "version": 3
   },
   "file_extension": ".py",
   "mimetype": "text/x-python",
   "name": "python",
   "nbconvert_exporter": "python",
   "pygments_lexer": "ipython3",
   "version": "3.9.6"
  }
 },
 "nbformat": 4,
 "nbformat_minor": 5
}
